{
 "cells": [
  {
   "cell_type": "code",
   "execution_count": 36,
   "metadata": {},
   "outputs": [],
   "source": [
    "from sklearn.model_selection import train_test_split\n",
    "from sklearn.ensemble import RandomForestClassifier\n",
    "from sklearn import  svm\n",
    "from sklearn.tree import DecisionTreeClassifier\n",
    "from sklearn.linear_model import SGDClassifier\n",
    "from sklearn.metrics import classification_report\n",
    "from sklearn.naive_bayes import GaussianNB\n",
    "#from sklearn.naive_bayes import MultinomialNB\n",
    "#from sklearn.naive_bayes import BernoulliNB\n",
    "from sklearn.linear_model import LogisticRegression\n",
    "from scipy.spatial import KDTree\n",
    "import matplotlib.pyplot as plt\n",
    "from tqdm.notebook import tqdm\n",
    "import seaborn as sns\n",
    "import pandas as pd\n",
    "import numpy as np\n",
    "import warnings\n",
    "import time\n",
    "import os\n",
    "\n",
    "tqdm.pandas()\n",
    "pd.options.display.float_format = '{:.3f}'.format\n",
    "pd.set_option('display.max_rows', 500)\n",
    "pd.set_option('display.max_columns', None)\n",
    "\n",
    "warnings.filterwarnings(\"ignore\")\n",
    "\n",
    "plt.style.use(\"ggplot\")\n",
    "plt.rcParams[\"figure.figsize\"] = (20,10)"
   ]
  },
  {
   "cell_type": "code",
   "execution_count": 2,
   "metadata": {},
   "outputs": [
    {
     "name": "stdout",
     "output_type": "stream",
     "text": [
      "pairs.csv\n",
      "sample_submission.csv\n",
      "test.csv\n",
      "train.csv\n"
     ]
    }
   ],
   "source": [
    "# read all of csvs\n",
    "for name in os.listdir(\"foursquare-location-matching/\"):\n",
    "    if '.csv' in name:\n",
    "        locals()[name[:-4]] = pd.read_csv(\"foursquare-location-matching/\" + name)\n",
    "        print(name)  \n",
    "      "
   ]
  },
  {
   "cell_type": "code",
   "execution_count": 3,
   "metadata": {},
   "outputs": [
    {
     "name": "stdout",
     "output_type": "stream",
     "text": [
      "36.37807003595054\n"
     ]
    }
   ],
   "source": [
    "def convert_str_columns_to_lower_case(df):\n",
    "    for column, column_type in pd.DataFrame(df.dtypes.astype(str)).reset_index().values:\n",
    "        if column_type == \"object\":\n",
    "            df[column] = df[column].str.lower()\n",
    "    return df\n",
    "\n",
    "def haversine_np(lon1, lat1, lon2, lat2):\n",
    "    lon1, lat1, lon2, lat2 = map(np.radians, [lon1, lat1, lon2, lat2])\n",
    "\n",
    "    dlon = lon2 - lon1\n",
    "    dlat = lat2 - lat1\n",
    "\n",
    "    a = np.sin(dlat/2.0)**2 + np.cos(lat1) * np.cos(lat2) * np.sin(dlon/2.0)**2\n",
    "\n",
    "    c = 2 * np.arcsin(np.sqrt(a))\n",
    "    km = 6367 * c\n",
    "    return km\n",
    "    \n",
    "# Usage\n",
    "lon1 = -103.548851\n",
    "lat1 = 32.0004311\n",
    "lon2 = -103.6041946\n",
    "lat2 = 33.374939  \n",
    "print(haversine_np(lat1, lon1, lat2, lon2))  "
   ]
  },
  {
   "cell_type": "code",
   "execution_count": 4,
   "metadata": {},
   "outputs": [
    {
     "name": "stdout",
     "output_type": "stream",
     "text": [
      "36.40092417135871\n"
     ]
    }
   ],
   "source": [
    "#inplace\n",
    "def haversine(lon1, lat1, lon2, lat2):\n",
    "    \"\"\"\n",
    "    Calculate the great circle distance in kilometers between two points \n",
    "    on the earth (specified in decimal degrees)\n",
    "    \"\"\"\n",
    "    # convert decimal degrees to radians \n",
    "    lon1, lat1, lon2, lat2 = map(np.radians, [lon1, lat1, lon2, lat2])\n",
    "\n",
    "    # haversine formula \n",
    "    dlon = lon2 - lon1 \n",
    "    dlat = lat2 - lat1 \n",
    "    a = np.sin(dlat/2)**2 + np.cos(lat1) * np.cos(lat2) * np.sin(dlon/2)**2\n",
    "    c = 2 * np.arcsin(np.sqrt(a)) \n",
    "    r = 6371 # Radius of earth in kilometers. Determines return value units.\n",
    "    return c * r\n",
    "\n",
    "# Usage\n",
    "lon1 = -103.548851\n",
    "lat1 = 32.0004311\n",
    "lon2 = -103.6041946\n",
    "lat2 = 33.374939\n",
    "\n",
    "print(haversine(lat1, lon1, lat2, lon2))"
   ]
  },
  {
   "cell_type": "code",
   "execution_count": 19,
   "metadata": {},
   "outputs": [],
   "source": [
    "raw_pair_df = pairs\n",
    "raw_test_df = test"
   ]
  },
  {
   "cell_type": "code",
   "execution_count": 20,
   "metadata": {},
   "outputs": [
    {
     "data": {
      "text/html": [
       "<div>\n",
       "<style scoped>\n",
       "    .dataframe tbody tr th:only-of-type {\n",
       "        vertical-align: middle;\n",
       "    }\n",
       "\n",
       "    .dataframe tbody tr th {\n",
       "        vertical-align: top;\n",
       "    }\n",
       "\n",
       "    .dataframe thead th {\n",
       "        text-align: right;\n",
       "    }\n",
       "</style>\n",
       "<table border=\"1\" class=\"dataframe\">\n",
       "  <thead>\n",
       "    <tr style=\"text-align: right;\">\n",
       "      <th></th>\n",
       "      <th>id_1</th>\n",
       "      <th>name_1</th>\n",
       "      <th>latitude_1</th>\n",
       "      <th>longitude_1</th>\n",
       "      <th>address_1</th>\n",
       "      <th>city_1</th>\n",
       "      <th>state_1</th>\n",
       "      <th>zip_1</th>\n",
       "      <th>country_1</th>\n",
       "      <th>url_1</th>\n",
       "      <th>phone_1</th>\n",
       "      <th>categories_1</th>\n",
       "      <th>id_2</th>\n",
       "      <th>name_2</th>\n",
       "      <th>latitude_2</th>\n",
       "      <th>longitude_2</th>\n",
       "      <th>address_2</th>\n",
       "      <th>city_2</th>\n",
       "      <th>state_2</th>\n",
       "      <th>zip_2</th>\n",
       "      <th>country_2</th>\n",
       "      <th>url_2</th>\n",
       "      <th>phone_2</th>\n",
       "      <th>categories_2</th>\n",
       "      <th>match</th>\n",
       "    </tr>\n",
       "  </thead>\n",
       "  <tbody>\n",
       "    <tr>\n",
       "      <th>0</th>\n",
       "      <td>e_000001272c6c5d</td>\n",
       "      <td>café stad oudenaarde</td>\n",
       "      <td>50.860</td>\n",
       "      <td>3.634</td>\n",
       "      <td>abdijstraat</td>\n",
       "      <td>nederename</td>\n",
       "      <td>oost-vlaanderen</td>\n",
       "      <td>9700</td>\n",
       "      <td>be</td>\n",
       "      <td>NaN</td>\n",
       "      <td>NaN</td>\n",
       "      <td>bars</td>\n",
       "      <td>e_da7fa3963561f8</td>\n",
       "      <td>café oudenaarde</td>\n",
       "      <td>50.869</td>\n",
       "      <td>3.635</td>\n",
       "      <td>NaN</td>\n",
       "      <td>NaN</td>\n",
       "      <td>NaN</td>\n",
       "      <td>NaN</td>\n",
       "      <td>be</td>\n",
       "      <td>NaN</td>\n",
       "      <td>NaN</td>\n",
       "      <td>bars</td>\n",
       "      <td>True</td>\n",
       "    </tr>\n",
       "    <tr>\n",
       "      <th>1</th>\n",
       "      <td>e_000008a8ba4f48</td>\n",
       "      <td>turkcell</td>\n",
       "      <td>37.845</td>\n",
       "      <td>27.844</td>\n",
       "      <td>adnan menderes bulvarı</td>\n",
       "      <td>NaN</td>\n",
       "      <td>NaN</td>\n",
       "      <td>NaN</td>\n",
       "      <td>tr</td>\n",
       "      <td>NaN</td>\n",
       "      <td>NaN</td>\n",
       "      <td>mobile phone shops</td>\n",
       "      <td>e_3f12df0b045062</td>\n",
       "      <td>turkcell</td>\n",
       "      <td>37.838</td>\n",
       "      <td>27.846</td>\n",
       "      <td>batı aydın</td>\n",
       "      <td>aydın</td>\n",
       "      <td>NaN</td>\n",
       "      <td>67500</td>\n",
       "      <td>tr</td>\n",
       "      <td>NaN</td>\n",
       "      <td>NaN</td>\n",
       "      <td>electronics stores</td>\n",
       "      <td>False</td>\n",
       "    </tr>\n",
       "    <tr>\n",
       "      <th>2</th>\n",
       "      <td>e_000023d8f4be44</td>\n",
       "      <td>island spa</td>\n",
       "      <td>14.519</td>\n",
       "      <td>121.019</td>\n",
       "      <td>5th flr, newport mall, resorts world manila</td>\n",
       "      <td>pasay city</td>\n",
       "      <td>metro manila</td>\n",
       "      <td>NaN</td>\n",
       "      <td>ph</td>\n",
       "      <td>NaN</td>\n",
       "      <td>NaN</td>\n",
       "      <td>spas</td>\n",
       "      <td>e_12453effe251db</td>\n",
       "      <td>island spa theater</td>\n",
       "      <td>14.518</td>\n",
       "      <td>121.020</td>\n",
       "      <td>NaN</td>\n",
       "      <td>NaN</td>\n",
       "      <td>NaN</td>\n",
       "      <td>NaN</td>\n",
       "      <td>ph</td>\n",
       "      <td>NaN</td>\n",
       "      <td>NaN</td>\n",
       "      <td>spas</td>\n",
       "      <td>True</td>\n",
       "    </tr>\n",
       "    <tr>\n",
       "      <th>3</th>\n",
       "      <td>e_00007dcd2bb53f</td>\n",
       "      <td>togo's sandwiches</td>\n",
       "      <td>38.258</td>\n",
       "      <td>-122.065</td>\n",
       "      <td>1380 holiday ln., ste. b</td>\n",
       "      <td>fairfield</td>\n",
       "      <td>ca</td>\n",
       "      <td>94534</td>\n",
       "      <td>us</td>\n",
       "      <td>https://locations.togos.com/ll/us/ca/fairfield...</td>\n",
       "      <td>7074394747</td>\n",
       "      <td>sandwich places</td>\n",
       "      <td>e_f131dcb7f07be9</td>\n",
       "      <td>togo's</td>\n",
       "      <td>38.258</td>\n",
       "      <td>-122.065</td>\n",
       "      <td>NaN</td>\n",
       "      <td>fairfield</td>\n",
       "      <td>ca</td>\n",
       "      <td>NaN</td>\n",
       "      <td>us</td>\n",
       "      <td>NaN</td>\n",
       "      <td>NaN</td>\n",
       "      <td>sandwich places</td>\n",
       "      <td>True</td>\n",
       "    </tr>\n",
       "    <tr>\n",
       "      <th>4</th>\n",
       "      <td>e_0000c362229d93</td>\n",
       "      <td>coffee cat</td>\n",
       "      <td>7.082</td>\n",
       "      <td>125.610</td>\n",
       "      <td>f. torres st.</td>\n",
       "      <td>davao city</td>\n",
       "      <td>davao region</td>\n",
       "      <td>8000</td>\n",
       "      <td>ph</td>\n",
       "      <td>NaN</td>\n",
       "      <td>NaN</td>\n",
       "      <td>cafés, coffee shops</td>\n",
       "      <td>e_d52c3c4d53831c</td>\n",
       "      <td>coffeecat</td>\n",
       "      <td>7.076</td>\n",
       "      <td>125.611</td>\n",
       "      <td>e. jacinto extension</td>\n",
       "      <td>davao city</td>\n",
       "      <td>davao region</td>\n",
       "      <td>8000</td>\n",
       "      <td>ph</td>\n",
       "      <td>NaN</td>\n",
       "      <td>NaN</td>\n",
       "      <td>coffee shops, cafés, dessert shops</td>\n",
       "      <td>False</td>\n",
       "    </tr>\n",
       "    <tr>\n",
       "      <th>...</th>\n",
       "      <td>...</td>\n",
       "      <td>...</td>\n",
       "      <td>...</td>\n",
       "      <td>...</td>\n",
       "      <td>...</td>\n",
       "      <td>...</td>\n",
       "      <td>...</td>\n",
       "      <td>...</td>\n",
       "      <td>...</td>\n",
       "      <td>...</td>\n",
       "      <td>...</td>\n",
       "      <td>...</td>\n",
       "      <td>...</td>\n",
       "      <td>...</td>\n",
       "      <td>...</td>\n",
       "      <td>...</td>\n",
       "      <td>...</td>\n",
       "      <td>...</td>\n",
       "      <td>...</td>\n",
       "      <td>...</td>\n",
       "      <td>...</td>\n",
       "      <td>...</td>\n",
       "      <td>...</td>\n",
       "      <td>...</td>\n",
       "      <td>...</td>\n",
       "    </tr>\n",
       "    <tr>\n",
       "      <th>578902</th>\n",
       "      <td>e_ffff80f94b2fee</td>\n",
       "      <td>blk 332 hougang avenue 5</td>\n",
       "      <td>1.368</td>\n",
       "      <td>103.898</td>\n",
       "      <td>332 hougang ave 5</td>\n",
       "      <td>singapore</td>\n",
       "      <td>singapore</td>\n",
       "      <td>530332</td>\n",
       "      <td>sg</td>\n",
       "      <td>NaN</td>\n",
       "      <td>NaN</td>\n",
       "      <td>residential buildings (apartments / condos)</td>\n",
       "      <td>e_75feaa1e0321cc</td>\n",
       "      <td>blk332 carpark</td>\n",
       "      <td>1.368</td>\n",
       "      <td>103.897</td>\n",
       "      <td>hougang ave 5</td>\n",
       "      <td>NaN</td>\n",
       "      <td>NaN</td>\n",
       "      <td>NaN</td>\n",
       "      <td>sg</td>\n",
       "      <td>NaN</td>\n",
       "      <td>NaN</td>\n",
       "      <td>NaN</td>\n",
       "      <td>True</td>\n",
       "    </tr>\n",
       "    <tr>\n",
       "      <th>578903</th>\n",
       "      <td>e_ffff8cc1b92ab3</td>\n",
       "      <td>fawsley hall</td>\n",
       "      <td>52.206</td>\n",
       "      <td>-1.179</td>\n",
       "      <td>fawsley nr daventry</td>\n",
       "      <td>daventry</td>\n",
       "      <td>northants</td>\n",
       "      <td>nn11 3ba</td>\n",
       "      <td>gb</td>\n",
       "      <td>NaN</td>\n",
       "      <td>NaN</td>\n",
       "      <td>hotels</td>\n",
       "      <td>e_ad351ad024c4dd</td>\n",
       "      <td>the spa at fawsley hall</td>\n",
       "      <td>52.207</td>\n",
       "      <td>-1.180</td>\n",
       "      <td>NaN</td>\n",
       "      <td>NaN</td>\n",
       "      <td>NaN</td>\n",
       "      <td>NaN</td>\n",
       "      <td>gb</td>\n",
       "      <td>NaN</td>\n",
       "      <td>NaN</td>\n",
       "      <td>gyms or fitness centers</td>\n",
       "      <td>False</td>\n",
       "    </tr>\n",
       "    <tr>\n",
       "      <th>578904</th>\n",
       "      <td>e_ffff989ae206f8</td>\n",
       "      <td>cricket wireless authorized retailer</td>\n",
       "      <td>36.131</td>\n",
       "      <td>-86.716</td>\n",
       "      <td>825c murfreesboro pike</td>\n",
       "      <td>nashville</td>\n",
       "      <td>tn</td>\n",
       "      <td>37217</td>\n",
       "      <td>us</td>\n",
       "      <td>https://www.cricketwireless.com/stores/ll/us/t...</td>\n",
       "      <td>+16156799940</td>\n",
       "      <td>mobile phone shops</td>\n",
       "      <td>e_a5bc397a4eaeff</td>\n",
       "      <td>cricket wireless authorized retailer</td>\n",
       "      <td>36.135</td>\n",
       "      <td>-86.724</td>\n",
       "      <td>825c murfreesboro pike</td>\n",
       "      <td>nashville</td>\n",
       "      <td>tn</td>\n",
       "      <td>37217</td>\n",
       "      <td>us</td>\n",
       "      <td>https://www.cricketwireless.com</td>\n",
       "      <td>+16156799940</td>\n",
       "      <td>mobile phone shops</td>\n",
       "      <td>True</td>\n",
       "    </tr>\n",
       "    <tr>\n",
       "      <th>578905</th>\n",
       "      <td>e_ffffca745329ed</td>\n",
       "      <td>焼肉 和家</td>\n",
       "      <td>35.711</td>\n",
       "      <td>139.775</td>\n",
       "      <td>上野6-13-6</td>\n",
       "      <td>taitō</td>\n",
       "      <td>東京都</td>\n",
       "      <td>110-0005</td>\n",
       "      <td>jp</td>\n",
       "      <td>NaN</td>\n",
       "      <td>338362989</td>\n",
       "      <td>bbq joints</td>\n",
       "      <td>e_04988888cfff60</td>\n",
       "      <td>nagomiya</td>\n",
       "      <td>35.710</td>\n",
       "      <td>139.775</td>\n",
       "      <td>NaN</td>\n",
       "      <td>NaN</td>\n",
       "      <td>NaN</td>\n",
       "      <td>NaN</td>\n",
       "      <td>jp</td>\n",
       "      <td>NaN</td>\n",
       "      <td>NaN</td>\n",
       "      <td>bbq joints</td>\n",
       "      <td>True</td>\n",
       "    </tr>\n",
       "    <tr>\n",
       "      <th>578906</th>\n",
       "      <td>e_ffffe6f4652fbb</td>\n",
       "      <td>waihi beach</td>\n",
       "      <td>-37.417</td>\n",
       "      <td>175.950</td>\n",
       "      <td>NaN</td>\n",
       "      <td>waihi beach</td>\n",
       "      <td>bay of plenty</td>\n",
       "      <td>3611</td>\n",
       "      <td>nz</td>\n",
       "      <td>NaN</td>\n",
       "      <td>NaN</td>\n",
       "      <td>surf spots</td>\n",
       "      <td>e_1ae7caf33377c7</td>\n",
       "      <td>waihi beach</td>\n",
       "      <td>-37.406</td>\n",
       "      <td>175.940</td>\n",
       "      <td>NaN</td>\n",
       "      <td>NaN</td>\n",
       "      <td>NaN</td>\n",
       "      <td>NaN</td>\n",
       "      <td>nz</td>\n",
       "      <td>NaN</td>\n",
       "      <td>NaN</td>\n",
       "      <td>surf spots</td>\n",
       "      <td>False</td>\n",
       "    </tr>\n",
       "  </tbody>\n",
       "</table>\n",
       "<p>578907 rows × 25 columns</p>\n",
       "</div>"
      ],
      "text/plain": [
       "                    id_1                                name_1  latitude_1  \\\n",
       "0       e_000001272c6c5d                  café stad oudenaarde      50.860   \n",
       "1       e_000008a8ba4f48                              turkcell      37.845   \n",
       "2       e_000023d8f4be44                            island spa      14.519   \n",
       "3       e_00007dcd2bb53f                     togo's sandwiches      38.258   \n",
       "4       e_0000c362229d93                            coffee cat       7.082   \n",
       "...                  ...                                   ...         ...   \n",
       "578902  e_ffff80f94b2fee              blk 332 hougang avenue 5       1.368   \n",
       "578903  e_ffff8cc1b92ab3                          fawsley hall      52.206   \n",
       "578904  e_ffff989ae206f8  cricket wireless authorized retailer      36.131   \n",
       "578905  e_ffffca745329ed                                 焼肉 和家      35.711   \n",
       "578906  e_ffffe6f4652fbb                           waihi beach     -37.417   \n",
       "\n",
       "        longitude_1                                    address_1       city_1  \\\n",
       "0             3.634                                  abdijstraat   nederename   \n",
       "1            27.844                       adnan menderes bulvarı          NaN   \n",
       "2           121.019  5th flr, newport mall, resorts world manila   pasay city   \n",
       "3          -122.065                     1380 holiday ln., ste. b    fairfield   \n",
       "4           125.610                                f. torres st.   davao city   \n",
       "...             ...                                          ...          ...   \n",
       "578902      103.898                            332 hougang ave 5    singapore   \n",
       "578903       -1.179                          fawsley nr daventry     daventry   \n",
       "578904      -86.716                       825c murfreesboro pike    nashville   \n",
       "578905      139.775                                     上野6-13-6        taitō   \n",
       "578906      175.950                                          NaN  waihi beach   \n",
       "\n",
       "                state_1     zip_1 country_1  \\\n",
       "0       oost-vlaanderen      9700        be   \n",
       "1                   NaN       NaN        tr   \n",
       "2          metro manila       NaN        ph   \n",
       "3                    ca     94534        us   \n",
       "4          davao region      8000        ph   \n",
       "...                 ...       ...       ...   \n",
       "578902        singapore    530332        sg   \n",
       "578903        northants  nn11 3ba        gb   \n",
       "578904               tn     37217        us   \n",
       "578905              東京都  110-0005        jp   \n",
       "578906    bay of plenty      3611        nz   \n",
       "\n",
       "                                                    url_1       phone_1  \\\n",
       "0                                                     NaN           NaN   \n",
       "1                                                     NaN           NaN   \n",
       "2                                                     NaN           NaN   \n",
       "3       https://locations.togos.com/ll/us/ca/fairfield...    7074394747   \n",
       "4                                                     NaN           NaN   \n",
       "...                                                   ...           ...   \n",
       "578902                                                NaN           NaN   \n",
       "578903                                                NaN           NaN   \n",
       "578904  https://www.cricketwireless.com/stores/ll/us/t...  +16156799940   \n",
       "578905                                                NaN     338362989   \n",
       "578906                                                NaN           NaN   \n",
       "\n",
       "                                       categories_1              id_2  \\\n",
       "0                                              bars  e_da7fa3963561f8   \n",
       "1                                mobile phone shops  e_3f12df0b045062   \n",
       "2                                              spas  e_12453effe251db   \n",
       "3                                   sandwich places  e_f131dcb7f07be9   \n",
       "4                               cafés, coffee shops  e_d52c3c4d53831c   \n",
       "...                                             ...               ...   \n",
       "578902  residential buildings (apartments / condos)  e_75feaa1e0321cc   \n",
       "578903                                       hotels  e_ad351ad024c4dd   \n",
       "578904                           mobile phone shops  e_a5bc397a4eaeff   \n",
       "578905                                   bbq joints  e_04988888cfff60   \n",
       "578906                                   surf spots  e_1ae7caf33377c7   \n",
       "\n",
       "                                      name_2  latitude_2  longitude_2  \\\n",
       "0                            café oudenaarde      50.869        3.635   \n",
       "1                                   turkcell      37.838       27.846   \n",
       "2                         island spa theater      14.518      121.020   \n",
       "3                                     togo's      38.258     -122.065   \n",
       "4                                  coffeecat       7.076      125.611   \n",
       "...                                      ...         ...          ...   \n",
       "578902                        blk332 carpark       1.368      103.897   \n",
       "578903               the spa at fawsley hall      52.207       -1.180   \n",
       "578904  cricket wireless authorized retailer      36.135      -86.724   \n",
       "578905                              nagomiya      35.710      139.775   \n",
       "578906                           waihi beach     -37.406      175.940   \n",
       "\n",
       "                     address_2      city_2       state_2  zip_2 country_2  \\\n",
       "0                          NaN         NaN           NaN    NaN        be   \n",
       "1                   batı aydın       aydın           NaN  67500        tr   \n",
       "2                          NaN         NaN           NaN    NaN        ph   \n",
       "3                          NaN   fairfield            ca    NaN        us   \n",
       "4         e. jacinto extension  davao city  davao region   8000        ph   \n",
       "...                        ...         ...           ...    ...       ...   \n",
       "578902           hougang ave 5         NaN           NaN    NaN        sg   \n",
       "578903                     NaN         NaN           NaN    NaN        gb   \n",
       "578904  825c murfreesboro pike   nashville            tn  37217        us   \n",
       "578905                     NaN         NaN           NaN    NaN        jp   \n",
       "578906                     NaN         NaN           NaN    NaN        nz   \n",
       "\n",
       "                                  url_2       phone_2  \\\n",
       "0                                   NaN           NaN   \n",
       "1                                   NaN           NaN   \n",
       "2                                   NaN           NaN   \n",
       "3                                   NaN           NaN   \n",
       "4                                   NaN           NaN   \n",
       "...                                 ...           ...   \n",
       "578902                              NaN           NaN   \n",
       "578903                              NaN           NaN   \n",
       "578904  https://www.cricketwireless.com  +16156799940   \n",
       "578905                              NaN           NaN   \n",
       "578906                              NaN           NaN   \n",
       "\n",
       "                              categories_2  match  \n",
       "0                                     bars   True  \n",
       "1                       electronics stores  False  \n",
       "2                                     spas   True  \n",
       "3                          sandwich places   True  \n",
       "4       coffee shops, cafés, dessert shops  False  \n",
       "...                                    ...    ...  \n",
       "578902                                 NaN   True  \n",
       "578903             gyms or fitness centers  False  \n",
       "578904                  mobile phone shops   True  \n",
       "578905                          bbq joints   True  \n",
       "578906                          surf spots  False  \n",
       "\n",
       "[578907 rows x 25 columns]"
      ]
     },
     "execution_count": 20,
     "metadata": {},
     "output_type": "execute_result"
    }
   ],
   "source": [
    "raw_pair_df = raw_pair_df.pipe(convert_str_columns_to_lower_case)\n",
    "raw_test_df = raw_test_df.pipe(convert_str_columns_to_lower_case)\n",
    "raw_pair_df"
   ]
  },
  {
   "cell_type": "markdown",
   "metadata": {},
   "source": [
    "## KDTree"
   ]
  },
  {
   "cell_type": "code",
   "execution_count": 22,
   "metadata": {},
   "outputs": [
    {
     "name": "stdout",
     "output_type": "stream",
     "text": [
      "Wall time: 994 µs\n"
     ]
    },
    {
     "data": {
      "text/plain": [
       "<scipy.spatial.kdtree.KDTree at 0x20378d9c608>"
      ]
     },
     "execution_count": 22,
     "metadata": {},
     "output_type": "execute_result"
    }
   ],
   "source": [
    "%%time\n",
    "tree = KDTree(raw_test_df[[\"latitude\",\"longitude\"]].values)\n",
    "tree"
   ]
  },
  {
   "cell_type": "code",
   "execution_count": 23,
   "metadata": {},
   "outputs": [
    {
     "name": "stdout",
     "output_type": "stream",
     "text": [
      "Wall time: 73.7 ms\n"
     ]
    }
   ],
   "source": [
    "%%time\n",
    "X = haversine_np(raw_pair_df['longitude_1'],\n",
    "                  raw_pair_df['latitude_1'],\n",
    "                  raw_pair_df['longitude_2'],\n",
    "                  raw_pair_df['latitude_2'])\n",
    "y = raw_pair_df.match.values"
   ]
  },
  {
   "cell_type": "code",
   "execution_count": 42,
   "metadata": {},
   "outputs": [
    {
     "name": "stdout",
     "output_type": "stream",
     "text": [
      "Wall time: 85.7 ms\n"
     ]
    }
   ],
   "source": [
    "%%time\n",
    "\n",
    "## change\n",
    "X = haversine(raw_pair_df['longitude_1'],\n",
    "                  raw_pair_df['latitude_1'],\n",
    "                  raw_pair_df['longitude_2'],\n",
    "                  raw_pair_df['latitude_2'])\n",
    "y = raw_pair_df.match.values"
   ]
  },
  {
   "cell_type": "code",
   "execution_count": 15,
   "metadata": {},
   "outputs": [
    {
     "name": "stdout",
     "output_type": "stream",
     "text": [
      "              precision    recall  f1-score   support\n",
      "\n",
      "       False       0.35      0.34      0.35     35901\n",
      "        True       0.71      0.72      0.71     79881\n",
      "\n",
      "    accuracy                           0.60    115782\n",
      "   macro avg       0.53      0.53      0.53    115782\n",
      "weighted avg       0.60      0.60      0.60    115782\n",
      "\n"
     ]
    }
   ],
   "source": [
    "X_train, X_test, y_train, y_test = train_test_split(pd.DataFrame(X), y, test_size=0.2, random_state=42)\n",
    "\n",
    "model = RandomForestClassifier()\n",
    "model.fit(X_train, y_train)\n",
    "\n",
    "print(classification_report(y_test, model.predict(X_test).astype(int)))"
   ]
  },
  {
   "cell_type": "code",
   "execution_count": null,
   "metadata": {},
   "outputs": [],
   "source": []
  },
  {
   "cell_type": "markdown",
   "metadata": {},
   "source": [
    "## SVC"
   ]
  },
  {
   "cell_type": "code",
   "execution_count": 18,
   "metadata": {},
   "outputs": [
    {
     "name": "stdout",
     "output_type": "stream",
     "text": [
      "              precision    recall  f1-score   support\n",
      "\n",
      "       False       0.00      0.00      0.00     35901\n",
      "        True       0.69      1.00      0.82     79881\n",
      "\n",
      "    accuracy                           0.69    115782\n",
      "   macro avg       0.34      0.50      0.41    115782\n",
      "weighted avg       0.48      0.69      0.56    115782\n",
      "\n"
     ]
    }
   ],
   "source": [
    "X_train, X_test, y_train, y_test = train_test_split(pd.DataFrame(X), y, test_size=0.2, random_state=42)\n",
    "\n",
    "svc = svm.SVC()\n",
    "svc.fit(X_train, y_train)\n",
    "\n",
    "print(classification_report(y_test, svc.predict(X_test).astype(int)))"
   ]
  },
  {
   "cell_type": "markdown",
   "metadata": {},
   "source": [
    "## Logistic "
   ]
  },
  {
   "cell_type": "code",
   "execution_count": 43,
   "metadata": {},
   "outputs": [
    {
     "name": "stdout",
     "output_type": "stream",
     "text": [
      "              precision    recall  f1-score   support\n",
      "\n",
      "       False       0.00      0.00      0.00     35901\n",
      "        True       0.69      1.00      0.82     79881\n",
      "\n",
      "    accuracy                           0.69    115782\n",
      "   macro avg       0.34      0.50      0.41    115782\n",
      "weighted avg       0.48      0.69      0.56    115782\n",
      "\n"
     ]
    }
   ],
   "source": [
    "X_train, X_test, y_train, y_test = train_test_split(pd.DataFrame(X), y, test_size=0.2, random_state=42)\n",
    "softmax_reg = LogisticRegression(multi_class='multinomial', C=1)\n",
    "softmax_reg.fit(X_train,y_train)\n",
    "\n",
    "\n",
    "print(classification_report(y_test, softmax_reg.predict(X_test).astype(int)))"
   ]
  },
  {
   "cell_type": "code",
   "execution_count": 44,
   "metadata": {},
   "outputs": [
    {
     "data": {
      "text/plain": [
       "0.6885937921727395"
      ]
     },
     "execution_count": 44,
     "metadata": {},
     "output_type": "execute_result"
    }
   ],
   "source": [
    "softmax_reg.score(X_train,y_train)"
   ]
  },
  {
   "cell_type": "markdown",
   "metadata": {},
   "source": [
    "## SGD_classifier"
   ]
  },
  {
   "cell_type": "code",
   "execution_count": 37,
   "metadata": {},
   "outputs": [
    {
     "name": "stdout",
     "output_type": "stream",
     "text": [
      "              precision    recall  f1-score   support\n",
      "\n",
      "       False       0.00      0.00      0.00     35901\n",
      "        True       0.69      1.00      0.82     79881\n",
      "\n",
      "    accuracy                           0.69    115782\n",
      "   macro avg       0.34      0.50      0.41    115782\n",
      "weighted avg       0.48      0.69      0.56    115782\n",
      "\n"
     ]
    }
   ],
   "source": [
    "X_train, X_test, y_train, y_test = train_test_split(pd.DataFrame(X), y, test_size=0.2, random_state=42)\n",
    "sgd_clf = SGDClassifier(loss='log', penalty='l2', alpha=0.0001)\n",
    "sgd_clf.fit(X_train,y_train)\n",
    "\n",
    "print(classification_report(y_test, sgd_clf.predict(X_test).astype(int)))"
   ]
  },
  {
   "cell_type": "code",
   "execution_count": 38,
   "metadata": {},
   "outputs": [
    {
     "data": {
      "text/plain": [
       "0.6885937921727395"
      ]
     },
     "execution_count": 38,
     "metadata": {},
     "output_type": "execute_result"
    }
   ],
   "source": [
    "sgd_clf.score(X_train,y_train)"
   ]
  },
  {
   "cell_type": "markdown",
   "metadata": {},
   "source": [
    "## DecisionTree"
   ]
  },
  {
   "cell_type": "code",
   "execution_count": 28,
   "metadata": {},
   "outputs": [
    {
     "name": "stdout",
     "output_type": "stream",
     "text": [
      "              precision    recall  f1-score   support\n",
      "\n",
      "       False       0.35      0.37      0.36     35901\n",
      "        True       0.71      0.69      0.70     79881\n",
      "\n",
      "    accuracy                           0.59    115782\n",
      "   macro avg       0.53      0.53      0.53    115782\n",
      "weighted avg       0.60      0.59      0.59    115782\n",
      "\n"
     ]
    }
   ],
   "source": [
    "X_train, X_test, y_train, y_test = train_test_split(pd.DataFrame(X), y, test_size=0.2, random_state=42)\n",
    "\n",
    "# 建立分類器\n",
    "clf = DecisionTreeClassifier()\n",
    "clf.fit(X_train, y_train)\n",
    "\n",
    "print(classification_report(y_test, clf.predict(X_test).astype(int)))"
   ]
  },
  {
   "cell_type": "code",
   "execution_count": null,
   "metadata": {},
   "outputs": [],
   "source": [
    "plt.figure(figsize=(5, 5))\n",
    "tree.plot_tree(clf, feature_names=['x1', 'x2'], \n",
    "               class_names=['lon','lat'], rounded=True, filled=True)\n",
    "plt.savefig(\"tree.pdf\")\n",
    "plt.show()"
   ]
  },
  {
   "cell_type": "markdown",
   "metadata": {},
   "source": [
    "## 貝氏分類器"
   ]
  },
  {
   "cell_type": "code",
   "execution_count": 25,
   "metadata": {},
   "outputs": [
    {
     "name": "stdout",
     "output_type": "stream",
     "text": [
      "              precision    recall  f1-score   support\n",
      "\n",
      "       False       0.00      0.00      0.00     35901\n",
      "        True       0.69      1.00      0.82     79881\n",
      "\n",
      "    accuracy                           0.69    115782\n",
      "   macro avg       0.34      0.50      0.41    115782\n",
      "weighted avg       0.48      0.69      0.56    115782\n",
      "\n"
     ]
    }
   ],
   "source": [
    "X_train, X_test, y_train, y_test = train_test_split(pd.DataFrame(X), y, test_size=0.2, random_state=42)\n",
    "\n",
    "BS = GaussianNB()\n",
    "BS.fit(X_train, y_train)\n",
    "BS.predict(X_test)\n",
    "\n",
    "print(classification_report(y_test, BS.predict(X_test).astype(int)))"
   ]
  },
  {
   "cell_type": "code",
   "execution_count": null,
   "metadata": {},
   "outputs": [],
   "source": []
  },
  {
   "cell_type": "code",
   "execution_count": 47,
   "metadata": {},
   "outputs": [
    {
     "data": {
      "application/vnd.jupyter.widget-view+json": {
       "model_id": "57ac9dbe22b940cd849ebf0e0a92192b",
       "version_major": 2,
       "version_minor": 0
      },
      "text/plain": [
       "  0%|          | 0/5 [00:00<?, ?it/s]"
      ]
     },
     "metadata": {},
     "output_type": "display_data"
    }
   ],
   "source": [
    "submission_df_list = []\n",
    "base_raw_df = raw_test_df[[\"id\",\"latitude\",\"longitude\"]]\n",
    "base_raw_df[\"dummy\"] = 1\n",
    "\n",
    "for row_id, row in tqdm(base_raw_df[[\"id\",\"latitude\",\"longitude\"]].iterrows(), total=base_raw_df.shape[0]):    \n",
    "    row_df = pd.DataFrame(row).T.astype({\"latitude\":\"float\",\"longitude\":\"float\"})\n",
    "    row_df[\"dummy\"] = 1\n",
    "    test_df = row_df.merge( \n",
    "           base_raw_df.iloc[ tree.query([row[\"latitude\"],row[\"longitude\"]], min(base_raw_df.shape[0],40))[1]],\n",
    "           on = \"dummy\", suffixes=[\"_1\",\"_2\"])\n",
    "    \n",
    "    features = haversine_np(test_df['longitude_1'],\n",
    "                  test_df['latitude_1'],\n",
    "                  test_df['longitude_2'],\n",
    "                  test_df['latitude_2'])\n",
    "    \n",
    "    ids_ = test_df[[\"id_1\", \"id_2\"]].values\n",
    "    prediction = clf.predict(pd.DataFrame(features)).astype(int)\n",
    "    \n",
    "    df = pd.DataFrame(ids_)\n",
    "    df[\"prediction\"] = prediction\n",
    "    submission_ = (df\n",
    "                    .query(\"prediction == 1\")\n",
    "                    .groupby(0, as_index=False)\n",
    "                    .agg({1:\" \".join})\n",
    "                    .rename(columns={0:\"id\", 1:\"matches\"})\n",
    "                    )\n",
    "    submission_df_list.append(submission_)"
   ]
  },
  {
   "cell_type": "code",
   "execution_count": 48,
   "metadata": {},
   "outputs": [],
   "source": [
    "submission = pd.concat(submission_df_list)"
   ]
  },
  {
   "cell_type": "code",
   "execution_count": null,
   "metadata": {},
   "outputs": [],
   "source": [
    "submission_base_file = pd.read_csv(\"D:/master/統計學習/專題/foursquare-location-matching/sample_submission.csv\")\n",
    "submission_data = submission_base_file.merge(submission, how=\"left\",\n",
    "                                             on=[\"id\"]).drop(\"matches_x\", axis=1).rename(columns={\"matches_y\":\"matches\"})\n",
    "submission_data.matches = submission_data.matches.fillna(submission_data.id)"
   ]
  },
  {
   "cell_type": "code",
   "execution_count": null,
   "metadata": {},
   "outputs": [],
   "source": [
    "submission.to_csv(\"submission.csv\", index=False)"
   ]
  }
 ],
 "metadata": {
  "kernelspec": {
   "display_name": "Python 3.8.5 ('base')",
   "language": "python",
   "name": "python3"
  },
  "language_info": {
   "codemirror_mode": {
    "name": "ipython",
    "version": 3
   },
   "file_extension": ".py",
   "mimetype": "text/x-python",
   "name": "python",
   "nbconvert_exporter": "python",
   "pygments_lexer": "ipython3",
   "version": "3.8.5"
  },
  "orig_nbformat": 4,
  "vscode": {
   "interpreter": {
    "hash": "16ffa40b6b3fc14e829e577f7bc539dd402c8accbd67495f4f1330191372f1ab"
   }
  }
 },
 "nbformat": 4,
 "nbformat_minor": 2
}
